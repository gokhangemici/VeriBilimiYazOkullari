{
 "cells": [
  {
   "cell_type": "code",
   "execution_count": 2,
   "metadata": {},
   "outputs": [
    {
     "name": "stdout",
     "output_type": "stream",
     "text": [
      "0.9318181818181818\n"
     ]
    }
   ],
   "source": [
    "from pyspark.sql import SparkSession\n",
    "from pyspark.sql.functions import UserDefinedFunction\n",
    "from pyspark.sql.types import StringType\n",
    "from pyspark.ml.classification import RandomForestClassifier\n",
    "from pyspark.ml.feature import StringIndexer,VectorAssembler\n",
    "from pyspark.ml.evaluation import MulticlassClassificationEvaluator\n",
    "\n",
    "spark = SparkSession.builder.appName(\"DataFrame Intro\").getOrCreate()\n",
    "\n",
    "df = spark.read.option(\"delimiter\",\",\").\\\n",
    "            option(\"header\",\"true\").\\\n",
    "            option(\"inferSchema\",\"true\").\\\n",
    "            csv(\"../datasets/iris-dataset.txt\")\n",
    "\n",
    "\n",
    "\n",
    "indexer = StringIndexer(inputCol=\"class\",outputCol=\"label\")\n",
    "df = indexer.fit(df).transform(df)\n",
    "df = df.drop(\"class\")\n",
    "\n",
    "\n",
    "vec = VectorAssembler(inputCols=[\"sepal-length\",\"sepal-width\",\n",
    "                                \"petal-length\",\"petal-width\"],\n",
    "                     outputCol=\"features\")\n",
    "df = vec.transform(df)\n",
    "df = df.select(\"features\",\"label\")\n",
    "\n",
    "(trainDF,testDF) = df.randomSplit([0.7,0.3])\n",
    "\n",
    "rfClassifier = RandomForestClassifier()\n",
    "\n",
    "model = rfClassifier.fit(trainDF)\n",
    "\n",
    "sonucDF = model.transform(testDF)\n",
    "\n",
    "evaluator = MulticlassClassificationEvaluator(metricName=\"accuracy\")\n",
    "\n",
    "res = evaluator.evaluate(sonucDF)\n",
    "print(res)\n",
    "\n",
    "\n",
    "#sonucDF.show(150)"
   ]
  }
 ],
 "metadata": {
  "kernelspec": {
   "display_name": "Python 3",
   "language": "python",
   "name": "python3"
  },
  "language_info": {
   "codemirror_mode": {
    "name": "ipython",
    "version": 3
   },
   "file_extension": ".py",
   "mimetype": "text/x-python",
   "name": "python",
   "nbconvert_exporter": "python",
   "pygments_lexer": "ipython3",
   "version": "3.7.3"
  }
 },
 "nbformat": 4,
 "nbformat_minor": 2
}
