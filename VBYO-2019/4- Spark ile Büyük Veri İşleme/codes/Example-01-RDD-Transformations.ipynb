{
 "cells": [
  {
   "cell_type": "code",
   "execution_count": 9,
   "metadata": {},
   "outputs": [
    {
     "data": {
      "text/plain": [
       "[('1939.12.26', 7.9, 'KURUTILEK- (ERZINCAN) [North East  3.0 km]'),\n",
       " ('1926.06.26', 7.7, 'ONIKI ADALAR (AKDENIZ)'),\n",
       " ('1930.05.06', 7.6, 'T�RKIYE-IRAN SINIR B�LGESI'),\n",
       " ('1976.11.24', 7.5, 'YENIYAKA-CALDIRAN (VAN) [South East  1.9 km]'),\n",
       " ('1999.08.17', 7.4, 'BASISKELE (KOCAELI) [North East  2.0 km]'),\n",
       " ('1912.08.09', 7.3, 'ERIKLICE-SARKOY (TEKIRDAG) [South East  4.3 km]'),\n",
       " ('2011.10.23', 7.2, 'YEMLICE- (VAN) [North West  1.5 km]'),\n",
       " ('1999.11.12', 7.2, 'UGUR- (DUZCE) [North East  0.3 km]'),\n",
       " ('1953.03.18', 7.2, 'SOGUCAK-YENICE (�ANAKKALE) [South West  2.3 km]'),\n",
       " ('1948.02.09', 7.2, 'AKDENIZ')]"
      ]
     },
     "execution_count": 9,
     "metadata": {},
     "output_type": "execute_result"
    }
   ],
   "source": [
    "from pyspark import SparkContext\n",
    "sc = SparkContext.getOrCreate()\n",
    "\n",
    "depremRDD = sc.textFile(\"../datasets/DepremVerileri.txt\")\n",
    "\n",
    "depremRDD = depremRDD.filter(lambda line : \"Deprem Kodu\" not in line)\n",
    "\n",
    "def parseLine(satir):\n",
    "    arr = satir.split(\"\\t\")\n",
    "    return(arr[2],float(arr[7]),arr[14])\n",
    "\n",
    "depremRDD = depremRDD.map(lambda line : parseLine(line))\n",
    "depremRDD = depremRDD.sortBy(lambda item : item[1],ascending=False)\n",
    "\n",
    "depremRDD.take(10)"
   ]
  },
  {
   "cell_type": "code",
   "execution_count": null,
   "metadata": {},
   "outputs": [],
   "source": []
  }
 ],
 "metadata": {
  "kernelspec": {
   "display_name": "Python 3",
   "language": "python",
   "name": "python3"
  },
  "language_info": {
   "codemirror_mode": {
    "name": "ipython",
    "version": 3
   },
   "file_extension": ".py",
   "mimetype": "text/x-python",
   "name": "python",
   "nbconvert_exporter": "python",
   "pygments_lexer": "ipython3",
   "version": "3.7.0"
  }
 },
 "nbformat": 4,
 "nbformat_minor": 2
}
