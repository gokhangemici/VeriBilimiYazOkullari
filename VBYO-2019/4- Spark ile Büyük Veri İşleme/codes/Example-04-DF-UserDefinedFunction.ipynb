{
 "cells": [
  {
   "cell_type": "code",
   "execution_count": 9,
   "metadata": {},
   "outputs": [
    {
     "name": "stdout",
     "output_type": "stream",
     "text": [
      "+-----------+-------+------+---+-----------------+\n",
      "|Olus tarihi|  Enlem|Boylam| xM|              sum|\n",
      "+-----------+-------+------+---+-----------------+\n",
      "| 1939.12.26|   39.8| 39.51|7.9|            79.31|\n",
      "| 1926.06.26|  36.54| 27.33|7.7|            63.87|\n",
      "| 1930.05.06|  37.98| 44.48|7.6|            82.46|\n",
      "| 1976.11.24|  39.05| 44.04|7.5|            83.09|\n",
      "| 1999.08.17|  40.76| 29.97|7.4|70.72999999999999|\n",
      "| 1912.08.09|   40.6|  27.2|7.3|             67.8|\n",
      "| 1943.11.26|  41.05| 33.72|7.2|            74.77|\n",
      "| 2011.10.23|38.7212|43.411|7.2|82.13220000000001|\n",
      "| 1944.02.01|  41.41| 32.69|7.2|             74.1|\n",
      "| 1999.11.12|  40.74| 31.21|7.2|            71.95|\n",
      "| 1953.03.18|  39.99| 27.36|7.2|            67.35|\n",
      "| 1948.02.09|  35.41|  27.2|7.2|            62.61|\n",
      "| 1957.04.25|  36.42| 28.68|7.1|             65.1|\n",
      "| 1916.01.24|  40.27| 36.83|7.1|             77.1|\n",
      "| 1957.05.26|  40.67|  31.0|7.1|            71.67|\n",
      "| 1942.12.20|  40.87| 36.47|7.0|            77.34|\n",
      "| 1970.03.28|  39.21| 29.51|7.0|            68.72|\n",
      "| 1919.11.18|  39.26| 26.71|7.0|            65.97|\n",
      "| 1964.10.06|   40.3| 28.23|7.0|            68.53|\n",
      "| 1951.08.13|  40.88| 32.87|6.9|            73.75|\n",
      "+-----------+-------+------+---+-----------------+\n",
      "only showing top 20 rows\n",
      "\n"
     ]
    }
   ],
   "source": [
    "from pyspark.sql import SparkSession\n",
    "from pyspark.sql.functions import UserDefinedFunction\n",
    "from pyspark.sql.types import StringType\n",
    "\n",
    "spark = SparkSession.builder.appName(\"DataFrame Intro\").getOrCreate()\n",
    "\n",
    "df = spark.read.option(\"delimiter\",\"\\t\").\\\n",
    "            option(\"header\",\"true\").\\\n",
    "            option(\"inferSchema\",\"true\").\\\n",
    "            csv(\"../datasets/DepremVerileri.txt\")\n",
    "#df.printSchema()\n",
    "#df.select(\"Olus tarihi\",\"Enlem\",\"Boylam\",\"xM\").show()\n",
    "\n",
    "def bolgeAtama(enlem,boylam):\n",
    "    bolge =\"\"\n",
    "    if enlem <= 39 :\n",
    "        if boylam <= 31 :\n",
    "            bolge = \"Bolge 1\"\n",
    "        elif boylam <= 36 :\n",
    "            bolge = \"Bolge 2\"\n",
    "        elif boylam <= 41 :\n",
    "            bolge = \"Bolge 3\"\n",
    "        else :\n",
    "            bolge = \"Bolge 4\"\n",
    "    else:\n",
    "        if boylam <= 31 :\n",
    "            bolge = \"Bolge 5\"\n",
    "        elif boylam <= 36 :\n",
    "            bolge = \"Bolge 6\"\n",
    "        elif boylam <= 41 :\n",
    "            bolge = \"Bolge 7\"\n",
    "        else :\n",
    "            bolge = \"Bolge 8\"\n",
    "    return bolge\n",
    "\n",
    "\n",
    "udfBogeAtama = UserDefinedFunction(bolgeAtama,StringType())\n",
    "df.createOrReplaceTempView(\"depremler\")\n",
    "df2 = spark.sql(\"select * from depremler\")\n",
    "df3 = df2.select(\"Olus tarihi\",\"Enlem\",\"Boylam\",\"xM\")\\\n",
    "                .sort(\"xM\",ascending=False)\n",
    "\n",
    "#df3 = df3.withColumn(\"Bolge\",udfBogeAtama(\"Enlem\",\"Boylam\"))\n",
    "#df3.select(\"Bolge\").groupBy(\"Bolge\").count().sort(\"count\").show()\n",
    "\n",
    "df3.withColumn(\"sum\", df3[\"Enlem\"]+df3[\"Boylam\"]).show()"
   ]
  },
  {
   "cell_type": "code",
   "execution_count": null,
   "metadata": {},
   "outputs": [],
   "source": []
  }
 ],
 "metadata": {
  "kernelspec": {
   "display_name": "Python 3",
   "language": "python",
   "name": "python3"
  },
  "language_info": {
   "codemirror_mode": {
    "name": "ipython",
    "version": 3
   },
   "file_extension": ".py",
   "mimetype": "text/x-python",
   "name": "python",
   "nbconvert_exporter": "python",
   "pygments_lexer": "ipython3",
   "version": "3.7.0"
  }
 },
 "nbformat": 4,
 "nbformat_minor": 2
}
