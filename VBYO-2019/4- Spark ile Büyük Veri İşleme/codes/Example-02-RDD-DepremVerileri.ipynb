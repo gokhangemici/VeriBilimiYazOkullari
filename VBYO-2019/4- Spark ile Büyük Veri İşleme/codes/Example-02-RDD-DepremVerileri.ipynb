{
 "cells": [
  {
   "cell_type": "code",
   "execution_count": 10,
   "metadata": {},
   "outputs": [
    {
     "data": {
      "text/plain": [
       "[('Bolge 1', 7376),\n",
       " ('Bolge 5', 2595),\n",
       " ('Bolge 4', 1435),\n",
       " ('Bolge 2', 1211),\n",
       " ('Bolge 3', 1145),\n",
       " ('Bolge 6', 951),\n",
       " ('Bolge 7', 922),\n",
       " ('Bolge 8', 711)]"
      ]
     },
     "execution_count": 10,
     "metadata": {},
     "output_type": "execute_result"
    }
   ],
   "source": [
    "from pyspark import SparkContext\n",
    "sc = SparkContext.getOrCreate()\n",
    "\n",
    "depremRDD = sc.textFile(\"../datasets/DepremVerileri.txt\")\n",
    "\n",
    "depremRDD = depremRDD.filter(lambda line : \"Deprem Kodu\" not in line)\n",
    "\n",
    "def parseLine(satir):\n",
    "    arr = satir.split(\"\\t\")\n",
    "    return(float(arr[4]),float(arr[5]),float(arr[7]))\n",
    "           \n",
    "depremRDD = depremRDD.map(lambda line : parseLine(line))\n",
    "\n",
    "def bolgeAtama(d):\n",
    "    enlem = d[0]\n",
    "    boylam = d[1]\n",
    "    bolge =\"\"\n",
    "    if enlem <= 39 :\n",
    "        if boylam <= 31 :\n",
    "            bolge = \"Bolge 1\"\n",
    "        elif boylam <= 36 :\n",
    "            bolge = \"Bolge 2\"\n",
    "        elif boylam <= 41 :\n",
    "            bolge = \"Bolge 3\"\n",
    "        else :\n",
    "            bolge = \"Bolge 4\"\n",
    "    else:\n",
    "        if boylam <= 31 :\n",
    "            bolge = \"Bolge 5\"\n",
    "        elif boylam <= 36 :\n",
    "            bolge = \"Bolge 6\"\n",
    "        elif boylam <= 41 :\n",
    "            bolge = \"Bolge 7\"\n",
    "        else :\n",
    "            bolge = \"Bolge 8\"\n",
    "    return (bolge, 1)\n",
    "\n",
    "depremRDD = depremRDD.map(lambda deprem : bolgeAtama(deprem))\n",
    "depremRDD = depremRDD.reduceByKey(lambda x,y : x + y )\n",
    "\n",
    "depremRDD.sortBy(lambda x : x[1], ascending=False).take(10)"
   ]
  },
  {
   "cell_type": "code",
   "execution_count": null,
   "metadata": {},
   "outputs": [],
   "source": []
  },
  {
   "cell_type": "code",
   "execution_count": null,
   "metadata": {},
   "outputs": [],
   "source": []
  }
 ],
 "metadata": {
  "kernelspec": {
   "display_name": "Python 3",
   "language": "python",
   "name": "python3"
  },
  "language_info": {
   "codemirror_mode": {
    "name": "ipython",
    "version": 3
   },
   "file_extension": ".py",
   "mimetype": "text/x-python",
   "name": "python",
   "nbconvert_exporter": "python",
   "pygments_lexer": "ipython3",
   "version": "3.7.0"
  }
 },
 "nbformat": 4,
 "nbformat_minor": 2
}
