{
 "cells": [
  {
   "cell_type": "code",
   "execution_count": 11,
   "metadata": {},
   "outputs": [
    {
     "name": "stdout",
     "output_type": "stream",
     "text": [
      "+-----------+-------+------+---+\n",
      "|Olus tarihi|  Enlem|Boylam| xM|\n",
      "+-----------+-------+------+---+\n",
      "| 1939.12.26|   39.8| 39.51|7.9|\n",
      "| 1926.06.26|  36.54| 27.33|7.7|\n",
      "| 1930.05.06|  37.98| 44.48|7.6|\n",
      "| 1976.11.24|  39.05| 44.04|7.5|\n",
      "| 1999.08.17|  40.76| 29.97|7.4|\n",
      "| 1912.08.09|   40.6|  27.2|7.3|\n",
      "| 1999.11.12|  40.74| 31.21|7.2|\n",
      "| 1953.03.18|  39.99| 27.36|7.2|\n",
      "| 1948.02.09|  35.41|  27.2|7.2|\n",
      "| 1943.11.26|  41.05| 33.72|7.2|\n",
      "| 1944.02.01|  41.41| 32.69|7.2|\n",
      "| 2011.10.23|38.7212|43.411|7.2|\n",
      "| 1957.05.26|  40.67|  31.0|7.1|\n",
      "| 1957.04.25|  36.42| 28.68|7.1|\n",
      "| 1916.01.24|  40.27| 36.83|7.1|\n",
      "+-----------+-------+------+---+\n",
      "\n"
     ]
    }
   ],
   "source": [
    "from pyspark.sql import SparkSession\n",
    "spark = SparkSession.builder.appName(\"DataFrame Intro\").getOrCreate()\n",
    "\n",
    "df = spark.read.option(\"delimiter\",\"\\t\").\\\n",
    "            option(\"header\",\"true\").\\\n",
    "            option(\"inferSchema\",\"true\").\\\n",
    "            csv(\"../datasets/DepremVerileri.txt\")\n",
    "\n",
    "#df.select(\"Olus tarihi\",\"Enlem\",\"Boylam\",\"xM\").show()\n",
    "\n",
    "df.createOrReplaceTempView(\"depremler\")\n",
    "df2 = spark.sql(\"select * from depremler where xM > 7\")\n",
    "df3 = df2.select(\"Olus tarihi\",\"Enlem\",\"Boylam\",\"xM\")\\\n",
    "                .sort(\"xM\",ascending=False)\n",
    "df3.show()"
   ]
  },
  {
   "cell_type": "code",
   "execution_count": null,
   "metadata": {},
   "outputs": [],
   "source": []
  }
 ],
 "metadata": {
  "kernelspec": {
   "display_name": "Python 3",
   "language": "python",
   "name": "python3"
  },
  "language_info": {
   "codemirror_mode": {
    "name": "ipython",
    "version": 3
   },
   "file_extension": ".py",
   "mimetype": "text/x-python",
   "name": "python",
   "nbconvert_exporter": "python",
   "pygments_lexer": "ipython3",
   "version": "3.7.0"
  }
 },
 "nbformat": 4,
 "nbformat_minor": 2
}
