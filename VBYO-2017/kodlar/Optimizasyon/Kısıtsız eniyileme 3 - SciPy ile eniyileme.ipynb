{
 "cells": [
  {
   "cell_type": "markdown",
   "metadata": {
    "collapsed": true
   },
   "source": [
    "Optimizasyon algoritmalarını kendiniz kodlamak istemiyorsanız mevcut Python paketlerini kullanabilirsiniz. Bilimsel hesaplama işlemleri için hazırlanan SciPy kütüphanesi içinde kapsamlı bir optimizasyon paketi bulunuyor.\n",
    "\n",
    "Tam dökümantasyon için: https://docs.scipy.org/doc/scipy/reference/tutorial/optimize.html"
   ]
  },
  {
   "cell_type": "code",
   "execution_count": 1,
   "metadata": {
    "collapsed": true
   },
   "outputs": [],
   "source": [
    "%matplotlib inline\n",
    "import numpy as np\n",
    "import matplotlib.pylab as plt\n",
    "from scipy.optimize import minimize"
   ]
  },
  {
   "cell_type": "markdown",
   "metadata": {},
   "source": [
    "## Rosenbrock fonksiyonu"
   ]
  },
  {
   "cell_type": "code",
   "execution_count": 2,
   "metadata": {
    "collapsed": true
   },
   "outputs": [],
   "source": [
    "def ros(x):\n",
    "    return 10*(x[1]-x[0]**2)**2 + (1-x[0])**2\n",
    "def ros_türev(x):\n",
    "    return np.array([-40*x[0]*x[1] + 40*x[0]**3 -2 + 2*x[0], 20*(x[1]-x[0]**2)])"
   ]
  },
  {
   "cell_type": "code",
   "execution_count": 3,
   "metadata": {
    "collapsed": true
   },
   "outputs": [],
   "source": [
    "x0 = [2,5]\n",
    "res = minimize(ros, x0, jac=ros_türev, method=\"BFGS\")"
   ]
  },
  {
   "cell_type": "markdown",
   "metadata": {},
   "source": [
    "`minimize()` fonksiyonu çeşitli veriler barındıran bir `OptimizeResult` nesnesi verir."
   ]
  },
  {
   "cell_type": "code",
   "execution_count": 4,
   "metadata": {},
   "outputs": [
    {
     "data": {
      "text/plain": [
       "['fun',\n",
       " 'hess_inv',\n",
       " 'jac',\n",
       " 'message',\n",
       " 'nfev',\n",
       " 'nit',\n",
       " 'njev',\n",
       " 'status',\n",
       " 'success',\n",
       " 'x']"
      ]
     },
     "execution_count": 4,
     "metadata": {},
     "output_type": "execute_result"
    }
   ],
   "source": [
    "dir(res)"
   ]
  },
  {
   "cell_type": "code",
   "execution_count": 5,
   "metadata": {},
   "outputs": [
    {
     "name": "stdout",
     "output_type": "stream",
     "text": [
      "Eniyileme noktası : [ 1.  1.]\n",
      "Fonksiyon değeri : 3.569363477597085e-16\n",
      "Türev değeri : [ -2.40526425e-07   1.19348025e-07]\n",
      "Fonksiyon çağrısı sayısı : 19\n",
      "İterasyon sayısı : 16\n"
     ]
    }
   ],
   "source": [
    "print(\"Eniyileme noktası :\", res.x)\n",
    "print(\"Fonksiyon değeri :\", res.fun)\n",
    "print(\"Türev değeri :\", res.jac)\n",
    "print(\"Fonksiyon çağrısı sayısı :\", res.nfev)\n",
    "print(\"İterasyon sayısı :\", res.nit)"
   ]
  },
  {
   "cell_type": "markdown",
   "metadata": {},
   "source": [
    "## Lojistik regresyon"
   ]
  },
  {
   "cell_type": "markdown",
   "metadata": {},
   "source": [
    "Daha önce kullandığımız lojistik regresyon modelini tekrar yazalım. Yine ortalama sapmayı asgariye indirecek $\\theta$ parametre vektörünü tespit etmeye çalışıyoruz, ama bu sefer `scipy.optimize.minimize()` fonksiyonunu kullanacağız. Eniyileme hedefi olan ortalama sapma fonksiyonunu, ve onun türevini veren fonksiyonu, `minimize()` arayüzüne uygun şekilde yazalım."
   ]
  },
  {
   "cell_type": "code",
   "execution_count": 6,
   "metadata": {
    "collapsed": true
   },
   "outputs": [],
   "source": [
    "def model(x, theta):\n",
    "    # 1 / (1 + exp(-x*theta)\n",
    "    # theta[0] yanlılık terimidir ve her zaman x[0] = 1 varsayılır.\n",
    "    \n",
    "    z = np.dot(x, theta)\n",
    "   \n",
    "    # z'nin aşırı büyüyüp overflow yaratmaması için iki yönden kısıtla:\n",
    "    if np.isscalar(z):\n",
    "        z = 100 if z>100 else -100 if z<-100 else z\n",
    "    else: # z bir vektörse sadece gerekli elemanları kısıtla.\n",
    "        z[z>100] = 100\n",
    "        z[z<-100] = -100\n",
    "    \n",
    "    return 1/(1+np.exp(-z))\n",
    "\n",
    "def ortsapma(theta, *args):\n",
    "    # args = (X,y)\n",
    "    m = args[0].shape[0]\n",
    "    z = np.dot(args[0],theta)\n",
    "    if np.isscalar(z):\n",
    "        z = 100 if z>100 else -100 if z<-100 else z\n",
    "    else: # z bir vektörse sadece gerekli elemanları kısıtla.\n",
    "        z[z>100] = 100\n",
    "        z[z<-100] = -100\n",
    "    \n",
    "    J = (1 - args[1])*z + np.log(1 + np.exp(-z))\n",
    "    return sum(J)/m\n",
    "\n",
    "def ortsapma_türev(theta, *args):\n",
    "    # args = (X,y)\n",
    "    m = args[0].shape[0]\n",
    "    z = np.dot(args[0],theta)\n",
    "    if np.isscalar(z):\n",
    "        z = 100 if z>100 else -100 if z<-100 else z\n",
    "    else: # z bir vektörse sadece gerekli elemanları kısıtla.\n",
    "        z[z>100] = 100\n",
    "        z[z<-100] = -100\n",
    "    \n",
    "    grad = np.dot(args[0].transpose(), 1/(1+np.exp(-z)) - args[1])\n",
    "    return grad/m"
   ]
  },
  {
   "cell_type": "code",
   "execution_count": 7,
   "metadata": {
    "collapsed": true
   },
   "outputs": [],
   "source": [
    "train = np.loadtxt(\"data/mnist_train_3_8.csv\",delimiter=\",\")\n",
    "deger = 3 # y = 1 ile etiketlenecek rakam\n",
    "Xtrain = np.copy(train)/train.max() # Veriyi 0-1 arasına ölçeklendir.\n",
    "Xtrain[:,0] = np.ones(Xtrain.shape[0]) # Sabit terim için birinci sütuna 1'ler koy.\n",
    "\n",
    "# y değerlerini, hedeflenen rakama göre 0 veya 1 yap\n",
    "ytrain = np.array([1 if hedef==deger else 0 for hedef in train[:,0]])\n",
    "\n",
    "m, n = Xtrain.shape"
   ]
  },
  {
   "cell_type": "code",
   "execution_count": 8,
   "metadata": {
    "collapsed": true
   },
   "outputs": [],
   "source": [
    "theta_0 = np.random.randn(n)"
   ]
  },
  {
   "cell_type": "markdown",
   "metadata": {},
   "source": [
    "Burada elimizdeki optimizasyon probleminin boyutu çok büyük (784). Böyle problemlerde BFGS kullanmak, Hesse matrisinin büyüklüğünden dolayı çok zorlayıcı olacaktır. Onun yerine, sınırlı sayıda veri kullanan L-BFGS-B algoritmasını kullanacağız."
   ]
  },
  {
   "cell_type": "code",
   "execution_count": 9,
   "metadata": {
    "collapsed": true
   },
   "outputs": [],
   "source": [
    "res = minimize(ortsapma, theta_0, args=(Xtrain, ytrain), jac=ortsapma_türev, method=\"L-BFGS-B\")"
   ]
  },
  {
   "cell_type": "code",
   "execution_count": 10,
   "metadata": {
    "collapsed": true
   },
   "outputs": [],
   "source": [
    "test = np.loadtxt(\"data/mnist_test_3_8.csv\",delimiter=\",\")\n",
    "Xtest = np.copy(test)/test.max() # Veriyi ölçeklendir\n",
    "Xtest[:,0] = np.ones(Xtest.shape[0]) # Sabit terim için birinci sütuna 1'ler koy.\n",
    "\n",
    "# y değerlerini, hedeflenen rakama göre 0 veya 1 yap\n",
    "ytest = np.array([1 if hedef==deger else 0 for hedef in test[:,0]])"
   ]
  },
  {
   "cell_type": "code",
   "execution_count": 11,
   "metadata": {},
   "outputs": [
    {
     "name": "stdout",
     "output_type": "stream",
     "text": [
      "Doğruluk = 0.959173387097\n"
     ]
    }
   ],
   "source": [
    "tahminler = np.rint( model(Xtest, res.x) )\n",
    "print(\"Doğruluk =\",sum(np.equal( tahminler, ytest)) / len(tahminler) )"
   ]
  },
  {
   "cell_type": "markdown",
   "metadata": {},
   "source": [
    "### Çalışma: L2 düzenlileştirme terimi"
   ]
  },
  {
   "cell_type": "markdown",
   "metadata": {},
   "source": [
    "`ortsapma` ve `ortsapma_türev` fonksiyonlarını değiştirerek L2 _düzenlileştirme terimi_ $\\frac{\\lambda}{2m} \\sum_{j=1}^{n}\\theta^2$ ekleyin. $\\theta_0$ teriminin eklenmemesi gerektiğini unutmayın."
   ]
  },
  {
   "cell_type": "code",
   "execution_count": 12,
   "metadata": {
    "collapsed": true
   },
   "outputs": [],
   "source": [
    "def ortsapma(theta, *args):\n",
    "    # args = (X,y,lambda)\n",
    "    m = args[0].shape[0]\n",
    "    lam = args[2] # regularization parameter\n",
    "    z = np.dot(args[0],theta)\n",
    "    if np.isscalar(z):\n",
    "        z = 100 if z>100 else -100 if z<-100 else z\n",
    "    else: # z bir vektörse sadece gerekli elemanları kısıtla.\n",
    "        z[z>100] = 100\n",
    "        z[z<-100] = -100\n",
    "    \n",
    "    J = (1 - args[1])*z + np.log(1 + np.exp(-z))\n",
    "    J += 0.5*lam*np.dot(theta[1:],theta[1:])\n",
    "    return sum(J)/m\n",
    "\n",
    "def ortsapma_türev(theta, *args):\n",
    "    # args = (X,y,lambda)\n",
    "    m = args[0].shape[0]\n",
    "    lam = args[2]\n",
    "    z = np.dot(args[0],theta)\n",
    "    if np.isscalar(z):\n",
    "        z = 100 if z>100 else -100 if z<-100 else z\n",
    "    else: # z bir vektörse sadece gerekli elemanları kısıtla.\n",
    "        z[z>100] = 100\n",
    "        z[z<-100] = -100\n",
    "    \n",
    "    grad = np.dot(args[0].transpose(), 1/(1+np.exp(-z)) - args[1])\n",
    "    grad[1:] += lam * theta[1:]\n",
    "    return grad/m"
   ]
  },
  {
   "cell_type": "markdown",
   "metadata": {},
   "source": [
    "$\\lambda$ 0 ve 10 arasında olacak şekilde farklı düzenlileştirme parametreleri ile eniyileştirme yapın, test kümesiyle karşılaştırarak doğruluklarını hesaplayın."
   ]
  },
  {
   "cell_type": "code",
   "execution_count": 13,
   "metadata": {
    "collapsed": true
   },
   "outputs": [],
   "source": [
    "lamlist = np.arange(0,11)\n",
    "doğruluk = []\n",
    "for lam in lamlist:\n",
    "    res = minimize(ortsapma, theta_0, args=(Xtrain, ytrain, lam), jac=ortsapma_türev, method=\"L-BFGS-B\")\n",
    "    tahminler = np.rint( model(Xtest, res.x) )\n",
    "    doğruluk.append(sum(np.equal( tahminler, ytest)) / len(tahminler) )"
   ]
  },
  {
   "cell_type": "code",
   "execution_count": 14,
   "metadata": {},
   "outputs": [
    {
     "data": {
      "image/png": "[encoded data removed]",
      "text/plain": [
       "<matplotlib.figure.Figure at 0x7fc666b7a630>"
      ]
     },
     "metadata": {},
     "output_type": "display_data"
    }
   ],
   "source": [
    "plt.plot(lamlist, doğruluk)\n",
    "plt.xlabel(\"Düzenlileştirme parametresi\")\n",
    "plt.ylabel(\"Doğruluk\");"
   ]
  },
  {
   "cell_type": "markdown",
   "metadata": {},
   "source": [
    "Ortaya çıkan grafiğin biçimi `theta0` vektörünün değerlerine göre değişebilir. Değişik rastgele başlangıç vektörleriyle tekrar deneyebilirsiniz."
   ]
  }
 ],
 "metadata": {
  "kernelspec": {
   "display_name": "Python 3",
   "language": "python",
   "name": "python3"
  },
  "language_info": {
   "codemirror_mode": {
    "name": "ipython",
    "version": 3
   },
   "file_extension": ".py",
   "mimetype": "text/x-python",
   "name": "python",
   "nbconvert_exporter": "python",
   "pygments_lexer": "ipython3",
   "version": "3.6.1"
  }
 },
 "nbformat": 4,
 "nbformat_minor": 2
}
