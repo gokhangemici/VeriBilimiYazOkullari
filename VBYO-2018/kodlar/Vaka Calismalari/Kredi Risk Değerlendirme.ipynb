{
 "cells": [
  {
   "cell_type": "markdown",
   "metadata": {},
   "source": [
    "# Kredi Risk Değerlendirme \n",
    "\n",
    "Yeh ve Lien (2009) tarafından kredi riskini değerlendirmek amacıyla kullanılan bir veri setini kullanacağız. Veri setinde eksik değerler veri setine benim tarafından yerleştirildi. Orijinal veri setini linkten indirebilirsiniz: http://archive.ics.uci.edu/ml/datasets/default+of+credit+card+clients\n",
    "\n",
    "Etiketli bir veri setiyle çalışacağımız için güdümlü öğrenme tekniklerinden yararlanacağız.\n",
    "\n",
    "## Neler yapacağız?\n",
    "\n",
    "* Güdümlü öğrenme kullanarak ve müşterilerin 6 aylık örüntülerine bakarak kredi ödemesinde sıkıntı olacak müşterileri tahmin edeceğiz.\n",
    "* Veri setini inceleyerek yeni öznitelikler türeteceğiz.\n",
    "* Kullandığımız yöntemlerin başarısını inceleyeceğiz.\n",
    "\n",
    "Veri setini (train, test) okutarak başlayalım"
   ]
  },
  {
   "cell_type": "code",
   "execution_count": 18,
   "metadata": {
    "collapsed": false
   },
   "outputs": [
    {
     "name": "stdout",
     "output_type": "stream",
     "text": [
      "    CUSTOMER_ID  LIMIT_BAL     SEX   EDUCATION MARRIAGE   AGE  PAYMENT_1  \\\n",
      "0  461090387729    10000.0    Male         NaN  Married  43.0         -1   \n",
      "1  456333788060    10000.0  Female         NaN   Single  24.0         -1   \n",
      "2  530658128376    10000.0  Female         NaN   Single  21.0          0   \n",
      "3  546506894510    10000.0    Male         NaN   Single  35.0          3   \n",
      "4  469501329931    10000.0    Male  Gradschool   Single  47.0          0   \n",
      "\n",
      "   PAYMENT_2  PAYMENT_3  PAYMENT_4   ...     REMAINING_AMOUNT_4  \\\n",
      "0          0          0          0   ...                      0   \n",
      "1          0          0          0   ...                   2583   \n",
      "2          0          0          0   ...                   8099   \n",
      "3          2          0          0   ...                   8838   \n",
      "4          0          0         -1   ...                   2640   \n",
      "\n",
      "   REMAINING_AMOUNT_5  REMAINING_AMOUNT_6  PAYMENT_AMOUNT_1  PAYMENT_AMOUNT_2  \\\n",
      "0                   0                   0              2537              1000   \n",
      "1                   0                   0              1500              2000   \n",
      "2                   0                   0              1192              1000   \n",
      "3                   0                   0                25              4000   \n",
      "4                 695                 738              1000                 0   \n",
      "\n",
      "   PAYMENT_AMOUNT_3  PAYMENT_AMOUNT_4  PAYMENT_AMOUNT_5  PAYMENT_AMOUNT_6  \\\n",
      "0                 0                 0                 0                 0   \n",
      "1               583                 0                 0                 0   \n",
      "2               162                 0                 0                 0   \n",
      "3                 0              1000                 0                 0   \n",
      "4              2640               695               738                 0   \n",
      "\n",
      "   default  \n",
      "0        1  \n",
      "1        0  \n",
      "2        0  \n",
      "3        0  \n",
      "4        0  \n",
      "\n",
      "[5 rows x 25 columns]\n",
      "CUSTOMER_ID\n",
      "LIMIT_BAL\n",
      "SEX\n",
      "EDUCATION\n",
      "MARRIAGE\n",
      "AGE\n",
      "PAYMENT_1\n",
      "PAYMENT_2\n",
      "PAYMENT_3\n",
      "PAYMENT_4\n",
      "PAYMENT_5\n",
      "PAYMENT_6\n",
      "REMAINING_AMOUNT_1\n",
      "REMAINING_AMOUNT_2\n",
      "REMAINING_AMOUNT_3\n",
      "REMAINING_AMOUNT_4\n",
      "REMAINING_AMOUNT_5\n",
      "REMAINING_AMOUNT_6\n",
      "PAYMENT_AMOUNT_1\n",
      "PAYMENT_AMOUNT_2\n",
      "PAYMENT_AMOUNT_3\n",
      "PAYMENT_AMOUNT_4\n",
      "PAYMENT_AMOUNT_5\n",
      "PAYMENT_AMOUNT_6\n",
      "default\n"
     ]
    }
   ],
   "source": [
    "#Paketleri yükleyelim\n",
    "%matplotlib inline\n",
    "import pandas as pd\n",
    "import numpy as np\n",
    "import matplotlib.pyplot as plt\n",
    "\n",
    "#Veri setlerini okutalım ve inceleyelim\n",
    "df_train = pd.read_excel('Credit_Scoring_train.xls')\n",
    "df_test = pd.read_excel('Credit_Scoring_test.xls')\n",
    "\n",
    "print(df_train.head())\n",
    "\n",
    "for i in df_train.columns:\n",
    "    print(i)"
   ]
  },
  {
   "cell_type": "markdown",
   "metadata": {},
   "source": [
    "## Veri Sözlüğü\n",
    "\n",
    "Veride aşağıdaki kolonlar yer almaktadır:\n",
    "\n",
    "* CUSTOMER_ID: Müşteriye özel ID.\n",
    "* LIMIT_BAL: Kredi limiti.\n",
    "* SEX: Cinsiyet (Male, Female). \n",
    "* EDUCATION: Eğitim (Gradschool, University, Highschool). \n",
    "* MARRIAGE: Medeni durum (Married, Single). \n",
    "* AGE: Yaş (year). \n",
    "* PAYMENT_1 - PAYMENT_6: Ay bazında geçmiş ödemelerdeki gecikme (1 - Eylül 2005, 6 - Nisan 2005 olacak şekilde).\n",
    "* REMAINING_AMOUNT_1 - REMAINING_AMOUNT_6: Kalan borç miktarı (1 - Eylül 2005, 6 - Nisan 2005 olacak şekilde).\n",
    "* PAYMENT_AMOUNT_1 - PAYMENT_AMOUNT_6: Önceki ödemeler (1 - Eylül 2005, 6 - Nisan 2005 olacak şekilde).\n",
    "* default: Çıktı değeri, borcun zamanında ödenip ödenmediği (0 = Zamanında, 1 = Geç)\n",
    "\n",
    "\n",
    "Önce sayısal kolonlara bakarak eksik değer olup olmadığına bakalım."
   ]
  },
  {
   "cell_type": "code",
   "execution_count": 19,
   "metadata": {
    "collapsed": false,
    "scrolled": false
   },
   "outputs": [
    {
     "name": "stdout",
     "output_type": "stream",
     "text": [
      "(19800, 25)\n",
      "count      19797.000000\n",
      "mean      167964.220842\n",
      "std       129539.225759\n",
      "min        10000.000000\n",
      "25%        50000.000000\n",
      "50%       140000.000000\n",
      "75%       240000.000000\n",
      "max      1000000.000000\n",
      "Name: LIMIT_BAL, dtype: float64\n",
      "count    19781.000000\n",
      "mean        35.540064\n",
      "std          9.220722\n",
      "min         21.000000\n",
      "25%         28.000000\n",
      "50%         34.000000\n",
      "75%         41.000000\n",
      "max         79.000000\n",
      "Name: AGE, dtype: float64\n",
      "       REMAINING_AMOUNT_1  REMAINING_AMOUNT_2  REMAINING_AMOUNT_3  \\\n",
      "count        19800.000000        19800.000000        1.980000e+04   \n",
      "mean         51265.968131        49428.558232        4.719719e+04   \n",
      "std          73465.137845        71323.105122        6.942574e+04   \n",
      "min        -165580.000000       -33350.000000       -1.572640e+05   \n",
      "25%           3605.750000         3066.250000        2.694750e+03   \n",
      "50%          22357.500000        21394.000000        2.010050e+04   \n",
      "75%          66868.750000        64229.500000        6.039650e+04   \n",
      "max         964511.000000       983931.000000        1.664089e+06   \n",
      "\n",
      "       REMAINING_AMOUNT_4  REMAINING_AMOUNT_5  REMAINING_AMOUNT_6  \n",
      "count        19800.000000        19800.000000        19800.000000  \n",
      "mean         43617.471111        40696.433485        39142.899798  \n",
      "std          64693.959172        61500.580818        60140.545390  \n",
      "min        -170000.000000       -81334.000000      -339603.000000  \n",
      "25%           2312.500000         1761.750000         1256.000000  \n",
      "50%          19147.000000        18129.500000        17177.000000  \n",
      "75%          55406.500000        50837.000000        49512.250000  \n",
      "max         891586.000000       927171.000000       961664.000000  \n",
      "          PAYMENT_1     PAYMENT_2     PAYMENT_3     PAYMENT_4     PAYMENT_5  \\\n",
      "count  19800.000000  19800.000000  19800.000000  19800.000000  19800.000000   \n",
      "mean       0.074646     -0.012374     -0.034747     -0.078384     -0.113182   \n",
      "std        0.986337      1.029932      1.020871      0.982815      0.940187   \n",
      "min       -1.000000     -1.000000     -1.000000     -1.000000     -1.000000   \n",
      "25%       -1.000000     -1.000000     -1.000000     -1.000000     -1.000000   \n",
      "50%        0.000000      0.000000      0.000000      0.000000      0.000000   \n",
      "75%        0.000000      0.000000      0.000000      0.000000      0.000000   \n",
      "max        8.000000      7.000000      8.000000      7.000000      7.000000   \n",
      "\n",
      "          PAYMENT_6  PAYMENT_AMOUNT_1  PAYMENT_AMOUNT_2  PAYMENT_AMOUNT_3  \\\n",
      "count  19800.000000      19800.000000      1.980000e+04      19800.000000   \n",
      "mean      -0.128333       5674.351010      5.914844e+03       5300.064646   \n",
      "std        0.946333      16069.451498      2.249296e+04      17327.253010   \n",
      "min       -1.000000          0.000000      0.000000e+00          0.000000   \n",
      "25%       -1.000000       1000.000000      8.315000e+02        396.000000   \n",
      "50%        0.000000       2124.000000      2.018000e+03       1822.000000   \n",
      "75%        0.000000       5037.250000      5.000000e+03       4626.250000   \n",
      "max        7.000000     505000.000000      1.684259e+06     896040.000000   \n",
      "\n",
      "       PAYMENT_AMOUNT_4  PAYMENT_AMOUNT_5  PAYMENT_AMOUNT_6  \n",
      "count      19800.000000      19800.000000      19800.000000  \n",
      "mean        4849.301414       4766.921313       5259.505101  \n",
      "std        15489.765788      14775.652597      18047.774868  \n",
      "min            0.000000          0.000000          0.000000  \n",
      "25%          285.000000        255.750000        125.000000  \n",
      "50%         1500.000000       1500.000000       1500.000000  \n",
      "75%         4052.000000       4127.500000       4045.250000  \n",
      "max       528897.000000     426529.000000     528666.000000  \n"
     ]
    }
   ],
   "source": [
    "print(np.shape(df_train))\n",
    "\n",
    "print(df_train['LIMIT_BAL'].describe())\n",
    "print(df_train['AGE'].describe())\n",
    "print(df_train[[i for i in df_train.columns if 'REMAINING_AMOUNT' in i]].describe())\n",
    "print(df_train[[i for i in df_train.columns if 'PAYMENT' in i]].describe())\n"
   ]
  },
  {
   "cell_type": "markdown",
   "metadata": {},
   "source": [
    "Kredi limiti ve yaş kolonlarında eksik değerler oldğunu görüyoruz. Bu gözlemleri analizden çıkarabilir ya da eksik değerleri kendimiz doldurabiliriz. Burada hangisini tercih edeceğimiz eksik gözlem sayısı ve özniteliğin önemine göre değişebilir. \n",
    "\n",
    "Yaş için bir değer kullanarak eksikleri giderelim. bunun için ortalama ya da median değeri kullanılabilir. Kredi limiti için de öneminden dolayı bu kolonu eksik olan müşterileri analizden çıkaralım\n",
    "\n",
    "Eksik değerleri doldurmak için scikit-learn'deki **Imputer** fonksiyonunu kullanalım."
   ]
  },
  {
   "cell_type": "code",
   "execution_count": 20,
   "metadata": {
    "collapsed": false
   },
   "outputs": [
    {
     "ename": "SyntaxError",
     "evalue": "invalid syntax (<ipython-input-20-e6ab77bced20>, line 8)",
     "output_type": "error",
     "traceback": [
      "\u001b[1;36m  File \u001b[1;32m\"<ipython-input-20-e6ab77bced20>\"\u001b[1;36m, line \u001b[1;32m8\u001b[0m\n\u001b[1;33m    imp = ..........\u001b[0m\n\u001b[1;37m               ^\u001b[0m\n\u001b[1;31mSyntaxError\u001b[0m\u001b[1;31m:\u001b[0m invalid syntax\n"
     ]
    }
   ],
   "source": [
    "# LIMIT_BAL değeri boş olan kolonları siliyoruz\n",
    "df_train = df_train[df_train['LIMIT_BAL'] >0]\n",
    "\n",
    "print(np.shape(df_train))\n",
    "\n",
    "#AGE kolonunu median değeriyle dolduruyoruz. Missing değer ve strategy (nasıl dolduracağımız) bilgisini verelim.\n",
    "from sklearn.preprocessing import Imputer\n",
    "imp = ..........\n",
    "df_train['AGE'] = imp.fit_transform(df_train['AGE'].reshape(-1,1)).ravel()\n",
    "\n",
    "print(np.shape(df_train))\n",
    "print(df_train['AGE'].describe())\n",
    "print(df_train['LIMIT_BAL'].describe())\n"
   ]
  },
  {
   "cell_type": "markdown",
   "metadata": {},
   "source": [
    "Şimdi de kategorik değişkenler içeren kolonları inceleyelim."
   ]
  },
  {
   "cell_type": "code",
   "execution_count": null,
   "metadata": {
    "collapsed": false
   },
   "outputs": [],
   "source": [
    "print(df_train['SEX'].describe())\n",
    "print(df_train['EDUCATION'].describe())\n",
    "print(df_train['MARRIAGE'].describe())"
   ]
  },
  {
   "cell_type": "markdown",
   "metadata": {},
   "source": [
    "Eğitim ve medeni durumla ilgili kolonlarda eksik değerler var. Müşterinin finansal durumuyla ilgili bilgi içerebileceği için ve eksik değerlere sahip müşteri sayısı fazla olduğu için bu kolonların değerlerinin eksik olduğunu belirtelim.\n",
    "\n",
    "Bunu yapmak için eksik değerli kolonları 'MISSING' anahtar kelimesiyle belirtelim. "
   ]
  },
  {
   "cell_type": "code",
   "execution_count": 5,
   "metadata": {
    "collapsed": false
   },
   "outputs": [
    {
     "name": "stdout",
     "output_type": "stream",
     "text": [
      "0    MISSING_EDU\n",
      "1    MISSING_EDU\n",
      "2    MISSING_EDU\n",
      "3    MISSING_EDU\n",
      "4     Gradschool\n",
      "Name: EDUCATION, dtype: object\n"
     ]
    }
   ],
   "source": [
    "#Boş olan değerleri istediğimiz değerle doldurmanın bir diğer yolu da fillna kullanmak\n",
    "df_train['EDUCATION'].fillna('MISSING_EDU', inplace = True)\n",
    "df_train['MARRIAGE'].fillna('MISSING_MAR', inplace = True)\n",
    "\n",
    "print(df_train['EDUCATION'].head())"
   ]
  },
  {
   "cell_type": "markdown",
   "metadata": {},
   "source": [
    "Artık her müşterinin medeni durumu Single, Married, MISSING_MAR değerlerinden birine sahip. Ancak bu kolonu hala tahmin için kullanmamaız mümkün değil. Bunu yapmak için kolonu nümerik değerlere çevirmemiz gerekiyor. Burada sıklıkla yapılabilen bir hata her bir durum için bir sayı atamaktır (0 = married, 1 = single, 2 = MISSING_MAR gibi). Bunun yerine takma değişkenler (dummy variable) kullanabiliriz. Her bir değer için ayrı bir kolon oluşturulup ikili değerlerle gözlemlerin ait olduğu değer belirtilir. bu amaçla pandas altında **get_dummies** fonksiyonunu kullanabiliriz. "
   ]
  },
  {
   "cell_type": "code",
   "execution_count": 6,
   "metadata": {
    "collapsed": false
   },
   "outputs": [
    {
     "name": "stdout",
     "output_type": "stream",
     "text": [
      "0    MISSING_EDU\n",
      "1    MISSING_EDU\n",
      "2    MISSING_EDU\n",
      "3    MISSING_EDU\n",
      "4     Gradschool\n",
      "Name: EDUCATION, dtype: object\n",
      "   Gradschool  Highschool  MISSING_EDU  University\n",
      "0           0           0            1           0\n",
      "1           0           0            1           0\n",
      "2           0           0            1           0\n",
      "3           0           0            1           0\n",
      "4           1           0            0           0\n",
      "0    Married\n",
      "1     Single\n",
      "2     Single\n",
      "3     Single\n",
      "4     Single\n",
      "Name: MARRIAGE, dtype: object\n",
      "   MISSING_MAR  Married  Single\n",
      "0            0        1       0\n",
      "1            0        0       1\n",
      "2            0        0       1\n",
      "3            0        0       1\n",
      "4            0        0       1\n"
     ]
    }
   ],
   "source": [
    "df_education = df_train[ 'EDUCATION' ]\n",
    "print(df_education.head())\n",
    "df_education = pd.get_dummies(df_education)\n",
    "\n",
    "print(df_education.head())\n",
    "\n",
    "df_marriage = df_train[ 'MARRIAGE' ]\n",
    "print(df_marriage.head())\n",
    "df_marriage = pd.get_dummies(df_marriage)\n",
    "\n",
    "print(df_marriage.head())"
   ]
  },
  {
   "cell_type": "markdown",
   "metadata": {},
   "source": [
    "Artık yapmamız gereken bütün bu yaptıklarımı bir araya getirip train ve test veri setlerini oluşturmak. Bu amaçla ID, EDUCATION, MARRIAGE kolonlarını çıkararak yeni oluşturduğumuz veri çerçeveleriyle önceki ver çerçevesini birleştireceğiz."
   ]
  },
  {
   "cell_type": "code",
   "execution_count": 7,
   "metadata": {
    "collapsed": false
   },
   "outputs": [
    {
     "name": "stdout",
     "output_type": "stream",
     "text": [
      "   LIMIT_BAL     SEX   AGE  PAYMENT_1  PAYMENT_2  PAYMENT_3  PAYMENT_4  \\\n",
      "0    10000.0    Male  43.0         -1          0          0          0   \n",
      "1    10000.0  Female  24.0         -1          0          0          0   \n",
      "2    10000.0  Female  21.0          0          0          0          0   \n",
      "3    10000.0    Male  35.0          3          2          0          0   \n",
      "4    10000.0    Male  47.0          0          0          0         -1   \n",
      "\n",
      "   PAYMENT_5  PAYMENT_6  REMAINING_AMOUNT_1   ...    PAYMENT_AMOUNT_5  \\\n",
      "0         -1         -1               17560   ...                   0   \n",
      "1          0         -1                5742   ...                   0   \n",
      "2          0         -1                7691   ...                   0   \n",
      "3          0         -1               10281   ...                   0   \n",
      "4         -1         -1                7968   ...                 738   \n",
      "\n",
      "   PAYMENT_AMOUNT_6  default  Gradschool  Highschool  MISSING_EDU  University  \\\n",
      "0                 0        1           0           0            1           0   \n",
      "1                 0        0           0           0            1           0   \n",
      "2                 0        0           0           0            1           0   \n",
      "3                 0        0           0           0            1           0   \n",
      "4                 0        0           1           0            0           0   \n",
      "\n",
      "   MISSING_MAR  Married  Single  \n",
      "0            0        1       0  \n",
      "1            0        0       1  \n",
      "2            0        0       1  \n",
      "3            0        0       1  \n",
      "4            0        0       1  \n",
      "\n",
      "[5 rows x 29 columns]\n"
     ]
    }
   ],
   "source": [
    "#Kullanmayacağımız kolonları siliyoruz\n",
    "df_train.drop(['CUSTOMER_ID', 'EDUCATION', 'MARRIAGE'] , axis=1, inplace=True)\n",
    "\n",
    "#Veri çerçevelerini birleştiriyoruz\n",
    "df_train = pd.concat([df_train, df_education, df_marriage], axis=1)\n",
    "\n",
    "print(df_train.head())"
   ]
  },
  {
   "cell_type": "markdown",
   "metadata": {},
   "source": [
    "Aynı şeyi SEX kolonu için de yapalım."
   ]
  },
  {
   "cell_type": "code",
   "execution_count": 8,
   "metadata": {
    "collapsed": true
   },
   "outputs": [],
   "source": [
    "#Kategorik değişkenleri dummye çevirmenin bir başka yolu\n",
    "df_train['MALE'] = (df_train.SEX == 'Male')*1\n",
    "df_train['FEMALE'] = (df_train.SEX == 'Female')*1\n",
    "df_train.drop('SEX', axis=1, inplace=True)"
   ]
  },
  {
   "cell_type": "markdown",
   "metadata": {},
   "source": [
    "Son olarak yeni öznitelikler türetelim. \n",
    "\n",
    "* Müşterilerin kredi limitleri oldukça önemli bir bilgi gibi duruyor. Büyük olasılıkla yaşlandıkça limitiniz de artacak.  'LIMIT_PER_AGE' adlı bir kolonla limiti yaşa bölerek yeni bir değişken oluşturalım. Bu sayede aynı limite sahip iki müşteriden daha genç olanını ayırdedebileceğimiz bir değişken oluşturuyoruz. Genç ve yüksek limitli bir müşteri daha cazip bir müşteri olabilir.\n",
    "* Aynı zamanda bankaya olan borcunuzla maddi durumunuzun da ilişkisini kurmak yararlı olabilir. Aynı borca sahip iki müşteriden limiti daha yüksek olan daha az riskli bir müşteri olabilir. REMAINING_AMOUNT_1 kolonunu LIMIT_BAL kolununa bölerek yeni bir değişken türetelim."
   ]
  },
  {
   "cell_type": "code",
   "execution_count": 9,
   "metadata": {
    "collapsed": true
   },
   "outputs": [],
   "source": [
    "#Yeni değişkenler oluşturuyoruz.\n",
    "df_train['LIMIT_PER_AGE'] = ......\n",
    "df_train['RELATIVE_REMAINING_AMOUNT'] = .......\n"
   ]
  },
  {
   "cell_type": "markdown",
   "metadata": {},
   "source": [
    "Aynı adımları test verisi için de yapalım."
   ]
  },
  {
   "cell_type": "code",
   "execution_count": 10,
   "metadata": {
    "collapsed": false
   },
   "outputs": [
    {
     "name": "stderr",
     "output_type": "stream",
     "text": [
      "C:\\Users\\byuceoglu\\AppData\\Local\\Continuum\\anaconda3\\lib\\site-packages\\ipykernel_launcher.py:2: FutureWarning: reshape is deprecated and will raise in a subsequent release. Please use .values.reshape(...) instead\n",
      "  \n"
     ]
    }
   ],
   "source": [
    "df_test = pd.read_excel('Credit_Scoring_test.xls')\n",
    "df_test['AGE'] = imp.transform(df_test['AGE'].reshape(-1, 1)).ravel()\n",
    "\n",
    "df_test['EDUCATION'].fillna('MISSING_EDU', inplace = True)\n",
    "df_test['MARRIAGE'].fillna('MISSING_MAR', inplace = True)\n",
    "\n",
    "df_education = df_test[ 'EDUCATION' ]\n",
    "df_education = pd.get_dummies(df_education)\n",
    "\n",
    "df_marriage = df_test[ 'MARRIAGE' ]\n",
    "df_marriage = pd.get_dummies(df_marriage)\n",
    "\n",
    "df_test.drop(['CUSTOMER_ID', 'EDUCATION', 'MARRIAGE'] , axis=1, inplace=True)\n",
    "\n",
    "df_test = pd.concat([df_test, df_education, df_marriage], axis=1)\n",
    "\n",
    "df_test['LIMIT_PER_AGE'] = df_test['LIMIT_BAL'] / df_test['AGE']\n",
    "df_test['RELATIVE_REMAINING_AMOUNT'] = df_test['REMAINING_AMOUNT_1'] / df_test['LIMIT_BAL']\n",
    "\n",
    "df_test['MALE'] = (df_test.SEX == 'Male')*1\n",
    "df_test['FEMALE'] = (df_test.SEX == 'Female')*1\n",
    "df_test.drop('SEX', axis=1, inplace=True)\n",
    "\n",
    "df_test = df_test[df_train.columns]"
   ]
  },
  {
   "cell_type": "markdown",
   "metadata": {},
   "source": [
    "# Sınıflandırma ve Değerlendirme\n",
    "\n",
    "Bu aşamada gradient boosting yöntemini kullanacağız (sklearn.ensemble.GradientBoostingClassifier)."
   ]
  },
  {
   "cell_type": "code",
   "execution_count": 11,
   "metadata": {
    "collapsed": false
   },
   "outputs": [],
   "source": [
    "#Hedef değişkenleri (default adlı kolon) veri çerçevesinden ayırıyoruz.\n",
    "y_train = df_train['default']\n",
    "y_test = df_test.default\n",
    "\n",
    "df_train.drop('default', axis=1, inplace=True)\n",
    "df_test.drop('default', axis=1, inplace=True)"
   ]
  },
  {
   "cell_type": "markdown",
   "metadata": {},
   "source": [
    "Şu an için modelin parametreleriyle oynamıyoruz. Şimdi modeli kuralım."
   ]
  },
  {
   "cell_type": "code",
   "execution_count": 12,
   "metadata": {
    "collapsed": false
   },
   "outputs": [
    {
     "data": {
      "text/plain": [
       "GradientBoostingClassifier(criterion='friedman_mse', init=None,\n",
       "              learning_rate=0.1, loss='deviance', max_depth=3,\n",
       "              max_features=None, max_leaf_nodes=None,\n",
       "              min_impurity_decrease=0.0, min_impurity_split=None,\n",
       "              min_samples_leaf=1, min_samples_split=2,\n",
       "              min_weight_fraction_leaf=0.0, n_estimators=100,\n",
       "              presort='auto', random_state=None, subsample=1.0, verbose=0,\n",
       "              warm_start=False)"
      ]
     },
     "execution_count": 12,
     "metadata": {},
     "output_type": "execute_result"
    }
   ],
   "source": [
    "#Modeli kurup eğitiyoruz\n",
    "from sklearn.ensemble import GradientBoostingClassifier\n",
    "\n",
    "gbc = ........"
   ]
  },
  {
   "cell_type": "markdown",
   "metadata": {},
   "source": [
    "Sonuçları değerlendirelim."
   ]
  },
  {
   "cell_type": "code",
   "execution_count": 13,
   "metadata": {
    "collapsed": false,
    "scrolled": true
   },
   "outputs": [
    {
     "name": "stdout",
     "output_type": "stream",
     "text": [
      "Gradient Boosting\n",
      "Accuracy\n",
      "0.817549019608\n",
      "AUC score\n",
      "0.776679811977\n",
      "Confusion Matrix\n",
      "[[7488  413]\n",
      " [1448  851]]\n"
     ]
    }
   ],
   "source": [
    "# Modeli değerlendirelim. Bunun için doğruluk ve eğri altı alana bakalım\n",
    "\n",
    "from sklearn.metrics import accuracy_score, roc_auc_score, roc_curve, confusion_matrix\n",
    "\n",
    "print('Gradient Boosting')\n",
    "print('Accuracy')\n",
    "print(accuracy_score(y_test, gbc.predict(df_test)))\n",
    "print('AUC score')\n",
    "print(roc_auc_score(y_test, gbc.predict_proba(df_test)[:,1]))\n",
    "print('Confusion Matrix')\n",
    "print(confusion_matrix(y_test, gbc.predict(df_test)))"
   ]
  },
  {
   "cell_type": "markdown",
   "metadata": {},
   "source": [
    "Eğri altı alanı görselleştirelim. Kredisini ödeyemeyecek müşterilerin %80'ini tahmin etmek istersek ödeyecek müşteriler için ne kadarlık bir hata payımız oluyor?"
   ]
  },
  {
   "cell_type": "code",
   "execution_count": 14,
   "metadata": {
    "collapsed": false
   },
   "outputs": [
    {
     "data": {
      "image/png": "[encoded data removed]",
      "text/plain": [
       "<matplotlib.figure.Figure at 0x21ee52fe128>"
      ]
     },
     "metadata": {},
     "output_type": "display_data"
    }
   ],
   "source": [
    "a_gbc , b_gbc, c_gbc = roc_curve(y_test,gbc.predict_proba(df_test)[:,1])\n",
    "\n",
    "plt.figure(figsize=(10,10))\n",
    "\n",
    "plt.plot(a_gbc,b_gbc, c='black', label = 'Gradient Boosting', linewidth = 3)\n",
    "plt.title('Area Under Curve', fontsize = 16)\n",
    "plt.ylabel('True positive rate', fontsize = 14)\n",
    "plt.xlabel('1 - True negative rate', fontsize = 14)\n",
    "\n",
    "plt.legend(loc = 4)\n",
    "plt.show()"
   ]
  },
  {
   "cell_type": "markdown",
   "metadata": {},
   "source": [
    "Eğri altı alan true positive rate (borcunu ödeyemeyeceği doğru bilinen müşteri yüzdesi) ile true negative rate (borcunu ödeyeceği doğru bilinen müşteri yüzdesi) arasındaki ilişkiyi gösterir. True positive rate 0 ise true negative rate 1 oluyor (Herkes ödeyecek şeklinde bir tahmine denk geliyor). Diğer uca bakarsak, herkesi ödeyemeyecek şeklinde tahmin ettiğimizde ödeyecek müşterilerin tamamını yanlış sınıflandırmış oluyoruz. Borcunu ödeyemeyecek müşterilerin %75'ini bilmek istersek borcunu ödeyemeyecek müşterilerde %35 civarında yanlış tahmin yapmamız gerekiyor. "
   ]
  },
  {
   "cell_type": "markdown",
   "metadata": {},
   "source": [
    "# Fine Tuning\n",
    "\n",
    "Scikit-learndeki classifier yöntemleri için bir çok parametre seçme opsiyonumuz var. Genelde varsayılan parametreler oldukça başarılı sonuçlar verse de parametrelerle oynamak sonuçları iyileştirebilir. Biz de iterasyon sayısını (n_estimators), modeli oluşturan karar ağaçlarının derinliklerini (**max_depth**) ve yaprak düğümlerindeki en az gözlem sayısını (**min_samples_leaf**) değiştirerek başlayalım. Değerlendirme için eğri altı alan değerini kullanacağız. \n",
    "\n",
    "Parametreleri denemek için Grid Search modülünü kullanalım. Bu modülü kullanarak  belirleyelim."
   ]
  },
  {
   "cell_type": "code",
   "execution_count": 15,
   "metadata": {
    "collapsed": false
   },
   "outputs": [
    {
     "name": "stdout",
     "output_type": "stream",
     "text": [
      "GridSearchCV took 25.36 seconds for 4 candidate parameter settings.\n"
     ]
    },
    {
     "name": "stderr",
     "output_type": "stream",
     "text": [
      "C:\\Users\\byuceoglu\\AppData\\Local\\Continuum\\anaconda3\\lib\\site-packages\\sklearn\\model_selection\\_search.py:761: DeprecationWarning: The grid_scores_ attribute was deprecated in version 0.18 in favor of the more elaborate cv_results_ attribute. The grid_scores_ attribute will not be available from 0.20\n",
      "  DeprecationWarning)\n"
     ]
    }
   ],
   "source": [
    "from sklearn.model_selection import GridSearchCV\n",
    "from time import time \n",
    "# Grid search ile denenecek model parametreleri ve değerleri\n",
    "parameters = {\"max_depth\": [3, 10],\n",
    "              \"min_samples_leaf\": [20, 100],\n",
    "              \"n_estimators\": [50]}\n",
    "\n",
    "# Kullanacağımız model\n",
    "gbc = GradientBoostingClassifier()\n",
    "\n",
    "#Grid search modelini oluşturuyoruz. Model ve param_grid değerlerini sağlamamız gerekiyor.\n",
    "grid_search = GridSearchCV(gbc, param_grid = parameters, cv=2,scoring = 'roc_auc')\n",
    "start = time()\n",
    "\n",
    "#Modeli eğitiyoruz\n",
    "grid_search.fit(df_train, y_train)\n",
    "\n",
    "print(\"GridSearchCV took %.2f seconds for %d candidate parameter settings.\"\n",
    "      % (time() - start, len(grid_search.grid_scores_)))\n",
    "\n",
    "\n"
   ]
  },
  {
   "cell_type": "code",
   "execution_count": 16,
   "metadata": {
    "collapsed": false
   },
   "outputs": [
    {
     "name": "stdout",
     "output_type": "stream",
     "text": [
      "GradientBoostingClassifier(criterion='friedman_mse', init=None,\n",
      "              learning_rate=0.1, loss='deviance', max_depth=3,\n",
      "              max_features=None, max_leaf_nodes=None,\n",
      "              min_impurity_decrease=0.0, min_impurity_split=None,\n",
      "              min_samples_leaf=100, min_samples_split=2,\n",
      "              min_weight_fraction_leaf=0.0, n_estimators=50,\n",
      "              presort='auto', random_state=None, subsample=1.0, verbose=0,\n",
      "              warm_start=False)\n",
      "0.778590940443\n"
     ]
    }
   ],
   "source": [
    "print(grid_search.best_estimator_)\n",
    "print(roc_auc_score(y_test, grid_search.best_estimator_.predict_proba(df_test)[:,1]))"
   ]
  },
  {
   "cell_type": "markdown",
   "metadata": {},
   "source": [
    "# Özniteliklerin Değerlendirilmesi\n",
    "\n",
    "Gradient Boosting için kullanacağımız parametreleri belirledikten sonra modeli bu parametrelerle kurup önemli öznitelikleri belirleyelim. Bu amaçla **feature\\_importances\\_** değerlerine bakacağız."
   ]
  },
  {
   "cell_type": "code",
   "execution_count": 17,
   "metadata": {
    "collapsed": false,
    "scrolled": false
   },
   "outputs": [
    {
     "name": "stdout",
     "output_type": "stream",
     "text": [
      "[ 0.00825386  0.01381983  0.26751329  0.02316183  0.04780658  0.03145747\n",
      "  0.0258506   0.02780256  0.07981321  0.00179866  0.00914522  0.01629145\n",
      "  0.02429992  0.0053601   0.02725399  0.0439218   0.02285052  0.01851818\n",
      "  0.02143866  0.03017778  0.00622422  0.00286759  0.04198695  0.00047944\n",
      "  0.          0.0196989   0.00319961  0.01122611  0.00911225  0.0845904\n",
      "  0.07407904]\n",
      "                           Importance\n",
      "LIMIT_BAL                    0.008254\n",
      "AGE                          0.013820\n",
      "PAYMENT_1                    0.267513\n",
      "PAYMENT_2                    0.023162\n",
      "PAYMENT_3                    0.047807\n",
      "PAYMENT_4                    0.031457\n",
      "PAYMENT_5                    0.025851\n",
      "PAYMENT_6                    0.027803\n",
      "REMAINING_AMOUNT_1           0.079813\n",
      "REMAINING_AMOUNT_2           0.001799\n",
      "REMAINING_AMOUNT_3           0.009145\n",
      "REMAINING_AMOUNT_4           0.016291\n",
      "REMAINING_AMOUNT_5           0.024300\n",
      "REMAINING_AMOUNT_6           0.005360\n",
      "PAYMENT_AMOUNT_1             0.027254\n",
      "PAYMENT_AMOUNT_2             0.043922\n",
      "PAYMENT_AMOUNT_3             0.022851\n",
      "PAYMENT_AMOUNT_4             0.018518\n",
      "PAYMENT_AMOUNT_5             0.021439\n",
      "PAYMENT_AMOUNT_6             0.030178\n",
      "Gradschool                   0.006224\n",
      "Highschool                   0.002868\n",
      "MISSING_EDU                  0.041987\n",
      "University                   0.000479\n",
      "MISSING_MAR                  0.000000\n",
      "Married                      0.019699\n",
      "Single                       0.003200\n",
      "MALE                         0.011226\n",
      "FEMALE                       0.009112\n",
      "LIMIT_PER_AGE                0.084590\n",
      "RELATIVE_REMAINING_AMOUNT    0.074079\n"
     ]
    },
    {
     "data": {
      "image/png": "[encoded data removed]",
      "text/plain": [
       "<matplotlib.figure.Figure at 0x21ee788d630>"
      ]
     },
     "metadata": {},
     "output_type": "display_data"
    }
   ],
   "source": [
    "gbc= GradientBoostingClassifier(n_estimators=50, max_depth=3, min_samples_leaf=100)\n",
    "gbc.fit(df_train, y_train)\n",
    "# Özniteliklerin önemi\n",
    "feature_importance = gbc.feature_importances_\n",
    "\n",
    "print(feature_importance)\n",
    "\n",
    "df_features = pd.DataFrame(feature_importance)\n",
    "df_features.columns = ['Importance']\n",
    "df_features.index = df_train.columns\n",
    "print(df_features)\n",
    "# Maximum 100 olacak şekilde ağırlıklandırıyoruz\n",
    "feature_importance = 100.0 * (feature_importance / feature_importance.max())\n",
    "sorted_idx = np.argsort(feature_importance)\n",
    "pos = np.arange(sorted_idx.shape[0]) + .5\n",
    "\n",
    "plt.figure(figsize=(10,15))\n",
    "plt.barh(pos, feature_importance[sorted_idx], align='center')\n",
    "plt.yticks(pos, df_train.columns[sorted_idx])\n",
    "plt.xlabel('Relative Importance')\n",
    "plt.title('Variable Importance')\n",
    "plt.show()\n"
   ]
  },
  {
   "cell_type": "markdown",
   "metadata": {},
   "source": [
    "Bizim oluşturduğumuz öznitelikler oldukça yukarılarda çıktı. Eğitim ve cinsiyetle ilgili değişkenler ise genelde alt sıralarda En önemli değişken ise 1 önceki ayın ödemesindeki gecikme. "
   ]
  },
  {
   "cell_type": "markdown",
   "metadata": {},
   "source": [
    "# References\n",
    "Yeh, I. C., & Lien, C. H. (2009). The comparisons of data mining techniques for the predictive accuracy of probability of default of credit card clients. Expert Systems with Applications, 36(2), 2473-2480."
   ]
  },
  {
   "cell_type": "code",
   "execution_count": null,
   "metadata": {
    "collapsed": true
   },
   "outputs": [],
   "source": []
  }
 ],
 "metadata": {
  "anaconda-cloud": {},
  "kernelspec": {
   "display_name": "Python 3",
   "language": "python",
   "name": "python3"
  },
  "language_info": {
   "codemirror_mode": {
    "name": "ipython",
    "version": 3
   },
   "file_extension": ".py",
   "mimetype": "text/x-python",
   "name": "python",
   "nbconvert_exporter": "python",
   "pygments_lexer": "ipython3",
   "version": "3.6.3"
  }
 },
 "nbformat": 4,
 "nbformat_minor": 2
}
